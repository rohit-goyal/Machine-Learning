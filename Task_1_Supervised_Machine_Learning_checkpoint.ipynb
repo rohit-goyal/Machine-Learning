{
  "nbformat": 4,
  "nbformat_minor": 0,
  "metadata": {
    "colab": {
      "name": "Task 1 - Supervised Machine Learning-checkpoint.ipynb",
      "private_outputs": true,
      "provenance": [],
      "collapsed_sections": []
    },
    "kernelspec": {
      "name": "python3",
      "display_name": "Python 3"
    },
    "language_info": {
      "name": "python"
    }
  },
  "cells": [
    {
      "cell_type": "code",
      "execution_count": null,
      "metadata": {
        "id": "sNUIWcmUJj9R"
      },
      "outputs": [],
      "source": [
        "import pandas as pd\n",
        "import numpy as np\n",
        "import matplotlib.pyplot as plt \n",
        "import seaborn as sns\n",
        "print('Libraries are imported sucessfully')"
      ]
    },
    {
      "cell_type": "code",
      "source": [
        "df= pd.read_csv('https://raw.githubusercontent.com/AdiPersonalWorks/Random/master/student_scores%20-%20student_scores.csv')\n",
        "print('Dataframe has been read successfully')"
      ],
      "metadata": {
        "id": "nI3y9ZhzJ-EQ"
      },
      "execution_count": null,
      "outputs": []
    },
    {
      "cell_type": "code",
      "source": [
        "df.head()"
      ],
      "metadata": {
        "id": "JqUHUlnQKCt6"
      },
      "execution_count": null,
      "outputs": []
    },
    {
      "cell_type": "code",
      "source": [
        "df.isnull().sum()"
      ],
      "metadata": {
        "id": "3NLKztz9KFSh"
      },
      "execution_count": null,
      "outputs": []
    },
    {
      "cell_type": "code",
      "source": [
        "df.describe()"
      ],
      "metadata": {
        "id": "VXCbapaLKHo9"
      },
      "execution_count": null,
      "outputs": []
    },
    {
      "cell_type": "markdown",
      "source": [
        "Now visualize our dataset and see if we can find any relationship between the data."
      ],
      "metadata": {
        "id": "lRcYKX3XKJ-2"
      }
    },
    {
      "cell_type": "code",
      "source": [
        "sns.scatterplot(y= df['Scores'], x= df['Hours'])\n",
        "plt.title('Marks Vs Study Hours',size=15)\n",
        "plt.ylabel('Marks Percentage', size=12)\n",
        "plt.xlabel('Hours Studied', size=12)\n",
        "plt.show()"
      ],
      "metadata": {
        "id": "osVkJmgdKQwo"
      },
      "execution_count": null,
      "outputs": []
    },
    {
      "cell_type": "markdown",
      "source": [
        "From the above scatterplot, we can see that there is a positive linear relation between the \"Number of hours studied\" and \"Percentage of score\".\n",
        "\n",
        "Lets plot a regression line to confirm the correlation."
      ],
      "metadata": {
        "id": "uC1SUha7KT53"
      }
    },
    {
      "cell_type": "code",
      "source": [
        "sns.regplot(x= df['Hours'], y= df['Scores'])\n",
        "plt.title('Regression Plot',size=20)\n",
        "plt.ylabel('Marks Percentage', size=12)\n",
        "plt.xlabel('Hours Studied', size=12)\n",
        "plt.show()"
      ],
      "metadata": {
        "id": "VlKQeufUKX3z"
      },
      "execution_count": null,
      "outputs": []
    },
    {
      "cell_type": "code",
      "source": [
        "# Correlation\n",
        "print(df.corr())"
      ],
      "metadata": {
        "id": "O4Cp2wCPKbtp"
      },
      "execution_count": null,
      "outputs": []
    },
    {
      "cell_type": "markdown",
      "source": [
        "From the above output it is confirmed that the variables are positively correlated."
      ],
      "metadata": {
        "id": "0RHe72PdKeG2"
      }
    },
    {
      "cell_type": "markdown",
      "source": [
        "# ***Preparing the data***"
      ],
      "metadata": {
        "id": "qt3HrK2YKsw7"
      }
    },
    {
      "cell_type": "code",
      "source": [
        "X = df.iloc[:, :-1].values  \n",
        "y = df.iloc[:, 1].values  "
      ],
      "metadata": {
        "id": "dkKHbI8pK1tE"
      },
      "execution_count": null,
      "outputs": []
    },
    {
      "cell_type": "code",
      "source": [
        "from sklearn.model_selection import train_test_split\n",
        "\n",
        "X_train, X_test, y_train, y_test = train_test_split(X, y, test_size=0.25, random_state=0)"
      ],
      "metadata": {
        "id": "7RUF0JLnK6Fp"
      },
      "execution_count": null,
      "outputs": []
    },
    {
      "cell_type": "markdown",
      "source": [
        "We have split the dataset as - 75% Training data and 25% Test data"
      ],
      "metadata": {
        "id": "XDdhlxmeK7Cu"
      }
    },
    {
      "cell_type": "markdown",
      "source": [
        "# ***Training the Model***"
      ],
      "metadata": {
        "id": "ScfEjQqzK_Ej"
      }
    },
    {
      "cell_type": "markdown",
      "source": [
        "We will be using the Linear Regression which is a Supervised Machine Learning Algorithm."
      ],
      "metadata": {
        "id": "MpYB3ruBLE_p"
      }
    },
    {
      "cell_type": "code",
      "source": [
        "from sklearn.linear_model import LinearRegression\n",
        "\n",
        "reg = LinearRegression()  \n",
        "reg.fit(X_train, y_train) \n",
        "\n",
        "print(\"Training complete.\")"
      ],
      "metadata": {
        "id": "lOnSdoOoLIWN"
      },
      "execution_count": null,
      "outputs": []
    },
    {
      "cell_type": "markdown",
      "source": [
        "# ***Making Predictions***"
      ],
      "metadata": {
        "id": "EEtgRLXMLLt-"
      }
    },
    {
      "cell_type": "code",
      "source": [
        "# Predicting the scores\n",
        "y_pred = reg.predict(X_test) \n",
        "y_pred"
      ],
      "metadata": {
        "id": "YuHDDwaqLPzj"
      },
      "execution_count": null,
      "outputs": []
    },
    {
      "cell_type": "code",
      "source": [
        "# Comparing the Actual marks and the Predicted Marks\n",
        "compare_scores = pd.DataFrame({'Hours': [i[0] for i in X_test],'Actual Marks': y_test, 'Predicted Marks': y_pred})\n",
        "compare_scores"
      ],
      "metadata": {
        "id": "lT4y0XE5LTOf"
      },
      "execution_count": null,
      "outputs": []
    },
    {
      "cell_type": "markdown",
      "source": [
        "# ***What will be predicted score if a student studies for 9.25 hrs/ day?***"
      ],
      "metadata": {
        "id": "t1e2O3lULViH"
      }
    },
    {
      "cell_type": "code",
      "source": [
        "hours = [[9.25]]\n",
        "pred = reg.predict(hours)\n",
        "print(\"No of Hours = {}\".format(hours))\n",
        "print(\"Predicted Score = {}\".format(pred[0]))"
      ],
      "metadata": {
        "id": "awK_uTL9LZus"
      },
      "execution_count": null,
      "outputs": []
    },
    {
      "cell_type": "code",
      "source": [
        "from sklearn import metrics  \n",
        "print('Mean Absolute Error:', metrics.mean_absolute_error(y_test, y_pred)) "
      ],
      "metadata": {
        "id": "YB7Z_YB2Lc4w"
      },
      "execution_count": null,
      "outputs": []
    }
  ]
}